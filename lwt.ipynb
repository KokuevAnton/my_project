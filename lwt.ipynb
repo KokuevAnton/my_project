{
 "cells": [
  {
   "cell_type": "markdown",
   "metadata": {
    "toc": true
   },
   "source": [
    "<h1>Содержание<span class=\"tocSkip\"></span></h1>\n",
    "<div class=\"toc\"><ul class=\"toc-item\"><li><span><a href=\"#Подготовка-данных\" data-toc-modified-id=\"Подготовка-данных-1\"><span class=\"toc-item-num\">1&nbsp;&nbsp;</span>Подготовка данных</a></span></li><li><span><a href=\"#Исследование-задачи\" data-toc-modified-id=\"Исследование-задачи-2\"><span class=\"toc-item-num\">2&nbsp;&nbsp;</span>Исследование задачи</a></span><ul class=\"toc-item\"><li><span><a href=\"#Баланс-классов\" data-toc-modified-id=\"Баланс-классов-2.1\"><span class=\"toc-item-num\">2.1&nbsp;&nbsp;</span>Баланс классов</a></span></li><li><span><a href=\"#Логистическая-регрессия\" data-toc-modified-id=\"Логистическая-регрессия-2.2\"><span class=\"toc-item-num\">2.2&nbsp;&nbsp;</span>Логистическая регрессия</a></span></li><li><span><a href=\"#Решающее-дерево\" data-toc-modified-id=\"Решающее-дерево-2.3\"><span class=\"toc-item-num\">2.3&nbsp;&nbsp;</span>Решающее дерево</a></span></li><li><span><a href=\"#Случайный-лес\" data-toc-modified-id=\"Случайный-лес-2.4\"><span class=\"toc-item-num\">2.4&nbsp;&nbsp;</span>Случайный лес</a></span></li><li><span><a href=\"#Итоги\" data-toc-modified-id=\"Итоги-2.5\"><span class=\"toc-item-num\">2.5&nbsp;&nbsp;</span>Итоги</a></span></li></ul></li><li><span><a href=\"#Борьба-с-дисбалансом\" data-toc-modified-id=\"Борьба-с-дисбалансом-3\"><span class=\"toc-item-num\">3&nbsp;&nbsp;</span>Борьба с дисбалансом</a></span><ul class=\"toc-item\"><li><span><a href=\"#Upsampling\" data-toc-modified-id=\"Upsampling-3.1\"><span class=\"toc-item-num\">3.1&nbsp;&nbsp;</span>Upsampling</a></span><ul class=\"toc-item\"><li><span><a href=\"#Логистическая-регрессия\" data-toc-modified-id=\"Логистическая-регрессия-3.1.1\"><span class=\"toc-item-num\">3.1.1&nbsp;&nbsp;</span>Логистическая регрессия</a></span></li><li><span><a href=\"#Решающее-дерево\" data-toc-modified-id=\"Решающее-дерево-3.1.2\"><span class=\"toc-item-num\">3.1.2&nbsp;&nbsp;</span>Решающее дерево</a></span></li><li><span><a href=\"#Случайный-лес\" data-toc-modified-id=\"Случайный-лес-3.1.3\"><span class=\"toc-item-num\">3.1.3&nbsp;&nbsp;</span>Случайный лес</a></span></li></ul></li><li><span><a href=\"#Downsampling\" data-toc-modified-id=\"Downsampling-3.2\"><span class=\"toc-item-num\">3.2&nbsp;&nbsp;</span>Downsampling</a></span><ul class=\"toc-item\"><li><span><a href=\"#Логистическая-регрессия\" data-toc-modified-id=\"Логистическая-регрессия-3.2.1\"><span class=\"toc-item-num\">3.2.1&nbsp;&nbsp;</span>Логистическая регрессия</a></span></li><li><span><a href=\"#Решающее-дерево\" data-toc-modified-id=\"Решающее-дерево-3.2.2\"><span class=\"toc-item-num\">3.2.2&nbsp;&nbsp;</span>Решающее дерево</a></span></li><li><span><a href=\"#Случайный-лес\" data-toc-modified-id=\"Случайный-лес-3.2.3\"><span class=\"toc-item-num\">3.2.3&nbsp;&nbsp;</span>Случайный лес</a></span></li></ul></li><li><span><a href=\"#Итоги\" data-toc-modified-id=\"Итоги-3.3\"><span class=\"toc-item-num\">3.3&nbsp;&nbsp;</span>Итоги</a></span></li></ul></li><li><span><a href=\"#Тестирование-модели\" data-toc-modified-id=\"Тестирование-модели-4\"><span class=\"toc-item-num\">4&nbsp;&nbsp;</span>Тестирование модели</a></span></li><li><span><a href=\"#Результаты\" data-toc-modified-id=\"Результаты-5\"><span class=\"toc-item-num\">5&nbsp;&nbsp;</span>Результаты</a></span></li><li><span><a href=\"#Чек-лист-готовности-проекта\" data-toc-modified-id=\"Чек-лист-готовности-проекта-6\"><span class=\"toc-item-num\">6&nbsp;&nbsp;</span>Чек-лист готовности проекта</a></span></li></ul></div>"
   ]
  },
  {
   "cell_type": "markdown",
   "metadata": {},
   "source": [
    "# Отток клиентов"
   ]
  },
  {
   "cell_type": "markdown",
   "metadata": {},
   "source": [
    "Из «Бета-Банка» стали уходить клиенты. Каждый месяц. Немного, но заметно. Банковские маркетологи посчитали: сохранять текущих клиентов дешевле, чем привлекать новых.\n",
    "\n",
    "Нужно спрогнозировать, уйдёт клиент из банка в ближайшее время или нет. Вам предоставлены исторические данные о поведении клиентов и расторжении договоров с банком. \n",
    "\n",
    "Постройте модель с предельно большим значением *F1*-меры. Чтобы сдать проект успешно, нужно довести метрику до 0.59. Проверьте *F1*-меру на тестовой выборке самостоятельно.\n",
    "\n",
    "Дополнительно измеряйте *AUC-ROC*, сравнивайте её значение с *F1*-мерой.\n",
    "\n",
    "Источник данных: [https://www.kaggle.com/barelydedicated/bank-customer-churn-modeling](https://www.kaggle.com/barelydedicated/bank-customer-churn-modeling)"
   ]
  },
  {
   "cell_type": "markdown",
   "metadata": {},
   "source": [
    "## Подготовка данных"
   ]
  },
  {
   "cell_type": "markdown",
   "metadata": {},
   "source": [
    "Для начала импортируем все необходимые бибилиотеки. "
   ]
  },
  {
   "cell_type": "code",
   "execution_count": 1,
   "metadata": {},
   "outputs": [],
   "source": [
    "import pandas as pd \n",
    "from sklearn.model_selection import train_test_split\n",
    "from sklearn.linear_model import LogisticRegression\n",
    "from sklearn.tree import DecisionTreeClassifier\n",
    "from sklearn.ensemble import RandomForestClassifier\n",
    "from sklearn.metrics import f1_score\n",
    "from sklearn.metrics import roc_auc_score\n",
    "from sklearn.utils import shuffle\n"
   ]
  },
  {
   "cell_type": "markdown",
   "metadata": {},
   "source": [
    "Теперь изучим данные, с которыми нам предстоит работать"
   ]
  },
  {
   "cell_type": "code",
   "execution_count": 2,
   "metadata": {
    "scrolled": false
   },
   "outputs": [
    {
     "name": "stdout",
     "output_type": "stream",
     "text": [
      "<class 'pandas.core.frame.DataFrame'>\n",
      "RangeIndex: 10000 entries, 0 to 9999\n",
      "Data columns (total 14 columns):\n",
      " #   Column           Non-Null Count  Dtype  \n",
      "---  ------           --------------  -----  \n",
      " 0   RowNumber        10000 non-null  int64  \n",
      " 1   CustomerId       10000 non-null  int64  \n",
      " 2   Surname          10000 non-null  object \n",
      " 3   CreditScore      10000 non-null  int64  \n",
      " 4   Geography        10000 non-null  object \n",
      " 5   Gender           10000 non-null  object \n",
      " 6   Age              10000 non-null  int64  \n",
      " 7   Tenure           9091 non-null   float64\n",
      " 8   Balance          10000 non-null  float64\n",
      " 9   NumOfProducts    10000 non-null  int64  \n",
      " 10  HasCrCard        10000 non-null  int64  \n",
      " 11  IsActiveMember   10000 non-null  int64  \n",
      " 12  EstimatedSalary  10000 non-null  float64\n",
      " 13  Exited           10000 non-null  int64  \n",
      "dtypes: float64(3), int64(8), object(3)\n",
      "memory usage: 1.1+ MB\n",
      "None\n"
     ]
    },
    {
     "data": {
      "text/html": [
       "<div>\n",
       "<style scoped>\n",
       "    .dataframe tbody tr th:only-of-type {\n",
       "        vertical-align: middle;\n",
       "    }\n",
       "\n",
       "    .dataframe tbody tr th {\n",
       "        vertical-align: top;\n",
       "    }\n",
       "\n",
       "    .dataframe thead th {\n",
       "        text-align: right;\n",
       "    }\n",
       "</style>\n",
       "<table border=\"1\" class=\"dataframe\">\n",
       "  <thead>\n",
       "    <tr style=\"text-align: right;\">\n",
       "      <th></th>\n",
       "      <th>RowNumber</th>\n",
       "      <th>CustomerId</th>\n",
       "      <th>Surname</th>\n",
       "      <th>CreditScore</th>\n",
       "      <th>Geography</th>\n",
       "      <th>Gender</th>\n",
       "      <th>Age</th>\n",
       "      <th>Tenure</th>\n",
       "      <th>Balance</th>\n",
       "      <th>NumOfProducts</th>\n",
       "      <th>HasCrCard</th>\n",
       "      <th>IsActiveMember</th>\n",
       "      <th>EstimatedSalary</th>\n",
       "      <th>Exited</th>\n",
       "    </tr>\n",
       "  </thead>\n",
       "  <tbody>\n",
       "    <tr>\n",
       "      <th>0</th>\n",
       "      <td>1</td>\n",
       "      <td>15634602</td>\n",
       "      <td>Hargrave</td>\n",
       "      <td>619</td>\n",
       "      <td>France</td>\n",
       "      <td>Female</td>\n",
       "      <td>42</td>\n",
       "      <td>2.0</td>\n",
       "      <td>0.00</td>\n",
       "      <td>1</td>\n",
       "      <td>1</td>\n",
       "      <td>1</td>\n",
       "      <td>101348.88</td>\n",
       "      <td>1</td>\n",
       "    </tr>\n",
       "    <tr>\n",
       "      <th>1</th>\n",
       "      <td>2</td>\n",
       "      <td>15647311</td>\n",
       "      <td>Hill</td>\n",
       "      <td>608</td>\n",
       "      <td>Spain</td>\n",
       "      <td>Female</td>\n",
       "      <td>41</td>\n",
       "      <td>1.0</td>\n",
       "      <td>83807.86</td>\n",
       "      <td>1</td>\n",
       "      <td>0</td>\n",
       "      <td>1</td>\n",
       "      <td>112542.58</td>\n",
       "      <td>0</td>\n",
       "    </tr>\n",
       "    <tr>\n",
       "      <th>2</th>\n",
       "      <td>3</td>\n",
       "      <td>15619304</td>\n",
       "      <td>Onio</td>\n",
       "      <td>502</td>\n",
       "      <td>France</td>\n",
       "      <td>Female</td>\n",
       "      <td>42</td>\n",
       "      <td>8.0</td>\n",
       "      <td>159660.80</td>\n",
       "      <td>3</td>\n",
       "      <td>1</td>\n",
       "      <td>0</td>\n",
       "      <td>113931.57</td>\n",
       "      <td>1</td>\n",
       "    </tr>\n",
       "    <tr>\n",
       "      <th>3</th>\n",
       "      <td>4</td>\n",
       "      <td>15701354</td>\n",
       "      <td>Boni</td>\n",
       "      <td>699</td>\n",
       "      <td>France</td>\n",
       "      <td>Female</td>\n",
       "      <td>39</td>\n",
       "      <td>1.0</td>\n",
       "      <td>0.00</td>\n",
       "      <td>2</td>\n",
       "      <td>0</td>\n",
       "      <td>0</td>\n",
       "      <td>93826.63</td>\n",
       "      <td>0</td>\n",
       "    </tr>\n",
       "    <tr>\n",
       "      <th>4</th>\n",
       "      <td>5</td>\n",
       "      <td>15737888</td>\n",
       "      <td>Mitchell</td>\n",
       "      <td>850</td>\n",
       "      <td>Spain</td>\n",
       "      <td>Female</td>\n",
       "      <td>43</td>\n",
       "      <td>2.0</td>\n",
       "      <td>125510.82</td>\n",
       "      <td>1</td>\n",
       "      <td>1</td>\n",
       "      <td>1</td>\n",
       "      <td>79084.10</td>\n",
       "      <td>0</td>\n",
       "    </tr>\n",
       "  </tbody>\n",
       "</table>\n",
       "</div>"
      ],
      "text/plain": [
       "   RowNumber  CustomerId   Surname  CreditScore Geography  Gender  Age  \\\n",
       "0          1    15634602  Hargrave          619    France  Female   42   \n",
       "1          2    15647311      Hill          608     Spain  Female   41   \n",
       "2          3    15619304      Onio          502    France  Female   42   \n",
       "3          4    15701354      Boni          699    France  Female   39   \n",
       "4          5    15737888  Mitchell          850     Spain  Female   43   \n",
       "\n",
       "   Tenure    Balance  NumOfProducts  HasCrCard  IsActiveMember  \\\n",
       "0     2.0       0.00              1          1               1   \n",
       "1     1.0   83807.86              1          0               1   \n",
       "2     8.0  159660.80              3          1               0   \n",
       "3     1.0       0.00              2          0               0   \n",
       "4     2.0  125510.82              1          1               1   \n",
       "\n",
       "   EstimatedSalary  Exited  \n",
       "0        101348.88       1  \n",
       "1        112542.58       0  \n",
       "2        113931.57       1  \n",
       "3         93826.63       0  \n",
       "4         79084.10       0  "
      ]
     },
     "execution_count": 2,
     "metadata": {},
     "output_type": "execute_result"
    }
   ],
   "source": [
    "data = pd.read_csv('/datasets/Churn.csv')\n",
    "\n",
    "print(data.info())\n",
    "data.head(5)"
   ]
  },
  {
   "cell_type": "markdown",
   "metadata": {},
   "source": [
    "Каждый объект в наборе данных — это информация об одном из клиентов банка. Известно:\n",
    "\n",
    "* RowNumber — индекс строки в данных\n",
    "* CustomerId — уникальный идентификатор клиента\n",
    "* Surname — фамилия\n",
    "* CreditScore — кредитный рейтинг\n",
    "* Geography — страна проживания\n",
    "* Gender — пол\n",
    "* Age — возраст\n",
    "* Tenure — сколько лет человек является клиентом банка\n",
    "* Balance — баланс на счёте\n",
    "* NumOfProducts — количество продуктов банка, используемых клиентом\n",
    "* HasCrCard — наличие кредитной карты\n",
    "* IsActiveMember — активность клиента\n",
    "* EstimatedSalary — предполагаемая зарплата\n",
    "* Exited — факт ухода клиента\n",
    "\n",
    "Целевым признаком является параметр Exited. В последующем мы его отделим.\n",
    "\n",
    "В данных в столбце `Tenure` есть пропуски. Стоит заполнить эти пропуски медианным значением. "
   ]
  },
  {
   "cell_type": "code",
   "execution_count": 3,
   "metadata": {},
   "outputs": [],
   "source": [
    "data['Tenure'] = data['Tenure'].fillna(data['Tenure'].median())"
   ]
  },
  {
   "cell_type": "markdown",
   "metadata": {},
   "source": [
    "Столбец `RowNumber`, `CustomerId` и `Surname` стоит убрать из обучающих данных. Они очень врядли влияют на уход клиента из банка и только усложнят обучение модели. \n",
    "\n",
    "Воспользуемся техникой прямого кодирования (OHE), чтобы категориальные признаки (страна и гендер) в численные, а после разделим данные на признаки и целевые признаки.\n",
    "\n",
    "Так как тестовой выборки у нас нет, поделим данные на три выборки:\n",
    "\n",
    "* Обучающая (60%)\n",
    "* Валидационная (20%)\n",
    "* Тестовая (20%)\n",
    "\n",
    "Для этого два раза воспользуемся функцией `train_test_split`, которую заранее импортировали.\n",
    "\n",
    "Параметр `random_state` будем задавать везде одинаковый, чтобы обеспечить повторяемость результатов"
   ]
  },
  {
   "cell_type": "code",
   "execution_count": 4,
   "metadata": {},
   "outputs": [
    {
     "name": "stdout",
     "output_type": "stream",
     "text": [
      "Размер обучающей выборки: 6000\n",
      "Размер валидационной выборки: 2000\n",
      "Размер тестовой выборки: 2000\n"
     ]
    }
   ],
   "source": [
    "target = data['Exited']\n",
    "features = data.drop(['Exited', 'RowNumber', 'CustomerId', 'Surname'], axis=1)\n",
    "\n",
    "features = pd.get_dummies(features)\n",
    "\n",
    "features_train, features_valid, target_train, target_valid = train_test_split(\n",
    "    features, target, test_size=0.2, random_state=12345)\n",
    "\n",
    "features_train, features_test, target_train, target_test = train_test_split(\n",
    "    features_train, target_train, test_size=0.25, random_state=12345)\n",
    "\n",
    "print('Размер обучающей выборки:', features_train.shape[0])\n",
    "print('Размер валидационной выборки:', features_test.shape[0])\n",
    "print('Размер тестовой выборки:', features_valid.shape[0])\n"
   ]
  },
  {
   "cell_type": "markdown",
   "metadata": {},
   "source": [
    "## Исследование задачи"
   ]
  },
  {
   "cell_type": "markdown",
   "metadata": {},
   "source": [
    "### Баланс классов"
   ]
  },
  {
   "cell_type": "markdown",
   "metadata": {},
   "source": [
    "Разделим выборку на отрицательные и положительные объекты. Посмотрим, насколько данные сбалансированы:"
   ]
  },
  {
   "cell_type": "code",
   "execution_count": 5,
   "metadata": {},
   "outputs": [
    {
     "name": "stdout",
     "output_type": "stream",
     "text": [
      "Количество отрицательных объектов: 4781\n",
      "Количество положительных объектов: 1219\n"
     ]
    }
   ],
   "source": [
    "features_zeros = features_train[target_train == 0]\n",
    "features_ones = features_train[target_train == 1]\n",
    "target_zeros = target_train[target_train == 0]\n",
    "target_ones = target_train[target_train == 1]\n",
    "\n",
    "print('Количество отрицательных объектов:', features_zeros.shape[0])\n",
    "print('Количество положительных объектов:', features_ones.shape[0])"
   ]
  },
  {
   "cell_type": "markdown",
   "metadata": {},
   "source": [
    "Как можно видеть, данные не сбалансированы, положительных объектов приметро в 4 раза меньше, но бороться с дисбалансом будем в третьем пункте, а тут попробуем не обращать на него внимания.\n",
    "\n",
    "А сейчас исследуем модели трех разных типов:\n",
    "\n",
    "* Логистическая регрессия\n",
    "* Решающее дерево\n",
    "* Случайный лес\n",
    "\n",
    "Для первых двух типов попробуем найти лучшие гиперпараметры."
   ]
  },
  {
   "cell_type": "markdown",
   "metadata": {},
   "source": [
    "### Логистическая регрессия"
   ]
  },
  {
   "cell_type": "code",
   "execution_count": 6,
   "metadata": {},
   "outputs": [
    {
     "name": "stdout",
     "output_type": "stream",
     "text": [
      "F1-мера: 0.09896907216494845\n",
      "AUC-ROC: 0.6712929395492733\n"
     ]
    }
   ],
   "source": [
    "model = LogisticRegression(random_state=12345, solver='liblinear', max_iter=1000)\n",
    "model.fit(features_train, target_train)\n",
    "predicted_valid = model.predict(features_valid)\n",
    "\n",
    "print('F1-мера:', f1_score(predicted_valid, target_valid))\n",
    "\n",
    "probabilities_valid = model.predict_proba(features_valid)\n",
    "probabilities_one_valid = probabilities_valid[:, 1]\n",
    "\n",
    "print('AUC-ROC:', roc_auc_score(target_valid, probabilities_one_valid))"
   ]
  },
  {
   "cell_type": "markdown",
   "metadata": {},
   "source": [
    "### Решающее дерево"
   ]
  },
  {
   "cell_type": "code",
   "execution_count": 7,
   "metadata": {},
   "outputs": [
    {
     "name": "stdout",
     "output_type": "stream",
     "text": [
      "F1-мера наилучшей модели на валидационной выборке: 0.5608011444921316 , при глубине: 5\n",
      "AUC-ROC: 0.8468610376210971\n"
     ]
    }
   ],
   "source": [
    "best_model = None\n",
    "best_result = 0\n",
    "best_depth = 0\n",
    "\n",
    "for depth in range(1,10):\n",
    "    \n",
    "    model = DecisionTreeClassifier(max_depth=depth, random_state=12345)\n",
    "    model.fit(features_train, target_train)\n",
    "    predicted_valid = model.predict(features_valid)\n",
    "    \n",
    "    result = f1_score(predicted_valid, target_valid)\n",
    "    \n",
    "    if result > best_result:\n",
    "        best_model = model\n",
    "        best_depth = depth\n",
    "        best_result = result\n",
    "        probabilities_valid = model.predict_proba(features_valid)\n",
    "        probabilities_one_valid = probabilities_valid[:, 1]\n",
    "        best_auc_roc = roc_auc_score(target_valid, probabilities_one_valid)\n",
    "    \n",
    "print(\"F1-мера наилучшей модели на валидационной выборке:\", best_result, ', при глубине:', best_depth)\n",
    "\n",
    "probabilities_valid = model.predict_proba(features_valid)\n",
    "probabilities_one_valid = probabilities_valid[:, 1]\n",
    "\n",
    "print('AUC-ROC:', best_auc_roc)"
   ]
  },
  {
   "cell_type": "markdown",
   "metadata": {},
   "source": [
    "### Случайный лес"
   ]
  },
  {
   "cell_type": "code",
   "execution_count": 8,
   "metadata": {},
   "outputs": [
    {
     "name": "stdout",
     "output_type": "stream",
     "text": [
      "F1-мера наилучшей модели на валидационной выборке: 0.5751445086705202 , n_estimators: 61\n",
      "AUC-ROC: 0.850306921096787\n"
     ]
    }
   ],
   "source": [
    "best_model = None\n",
    "best_result = 0\n",
    "best_est = 0\n",
    "\n",
    "for est in range(1,80):\n",
    "    \n",
    "    model = RandomForestClassifier(random_state=12345, n_estimators=est, max_depth = 20)\n",
    "    model.fit(features_train, target_train)\n",
    "    predicted_valid = model.predict(features_valid)\n",
    "    \n",
    "    result = f1_score(predicted_valid, target_valid)\n",
    "    \n",
    "    if result > best_result:\n",
    "        best_model = model\n",
    "        best_est = est\n",
    "        best_result = result\n",
    "        probabilities_valid = model.predict_proba(features_valid)\n",
    "        probabilities_one_valid = probabilities_valid[:, 1]\n",
    "        best_auc_roc = roc_auc_score(target_valid, probabilities_one_valid)\n",
    "    \n",
    "print(\"F1-мера наилучшей модели на валидационной выборке:\", best_result, ', n_estimators:', best_est)\n",
    "print('AUC-ROC:', best_auc_roc)"
   ]
  },
  {
   "cell_type": "markdown",
   "metadata": {},
   "source": [
    "### Итоги"
   ]
  },
  {
   "cell_type": "markdown",
   "metadata": {},
   "source": [
    "В данных присутствует дисбаланс, с которым нужно бороться (примерно 1 часть положительных обектов к 4 частям отрицательных объектов) . Результаты обучения моделей без учета дисбаланса представлены ниже:"
   ]
  },
  {
   "cell_type": "code",
   "execution_count": 9,
   "metadata": {},
   "outputs": [
    {
     "data": {
      "text/html": [
       "<div>\n",
       "<style scoped>\n",
       "    .dataframe tbody tr th:only-of-type {\n",
       "        vertical-align: middle;\n",
       "    }\n",
       "\n",
       "    .dataframe tbody tr th {\n",
       "        vertical-align: top;\n",
       "    }\n",
       "\n",
       "    .dataframe thead th {\n",
       "        text-align: right;\n",
       "    }\n",
       "</style>\n",
       "<table border=\"1\" class=\"dataframe\">\n",
       "  <thead>\n",
       "    <tr style=\"text-align: right;\">\n",
       "      <th></th>\n",
       "      <th>DISBALANCE</th>\n",
       "      <th>Тип модели</th>\n",
       "      <th>F1-мера</th>\n",
       "      <th>AUC-ROC</th>\n",
       "    </tr>\n",
       "  </thead>\n",
       "  <tbody>\n",
       "    <tr>\n",
       "      <th>0</th>\n",
       "      <td></td>\n",
       "      <td>Логистическая регрессия</td>\n",
       "      <td>0.10</td>\n",
       "      <td>0.67</td>\n",
       "    </tr>\n",
       "    <tr>\n",
       "      <th>1</th>\n",
       "      <td></td>\n",
       "      <td>Решающее дерево</td>\n",
       "      <td>0.56</td>\n",
       "      <td>0.85</td>\n",
       "    </tr>\n",
       "    <tr>\n",
       "      <th>2</th>\n",
       "      <td></td>\n",
       "      <td>Случайный лес</td>\n",
       "      <td>0.57</td>\n",
       "      <td>0.85</td>\n",
       "    </tr>\n",
       "  </tbody>\n",
       "</table>\n",
       "</div>"
      ],
      "text/plain": [
       "  DISBALANCE               Тип модели  F1-мера  AUC-ROC\n",
       "0             Логистическая регрессия     0.10     0.67\n",
       "1                     Решающее дерево     0.56     0.85\n",
       "2                       Случайный лес     0.57     0.85"
      ]
     },
     "metadata": {},
     "output_type": "display_data"
    }
   ],
   "source": [
    "display(pd.DataFrame({'DISBALANCE': ['', '', ''],\n",
    "        'Тип модели': ['Логистическая регрессия', 'Решающее дерево', 'Случайный лес'],\n",
    "        'F1-мера': [0.10, 0.56, 0.57],\n",
    "        'AUC-ROC': [0.67, 0.85, 0.85]\n",
    "        }))"
   ]
  },
  {
   "cell_type": "markdown",
   "metadata": {},
   "source": [
    "Не смотря на то, что достигнуть необходимого уровня F1-меры (0.59) не получилось, можно сделать вывод, что наилучший результат был получен с использованием случайного леса. \n",
    "\n",
    "Также стоит заметить, что показания метрики AUC-ROC соответствуют показаниям F1 метрики (Там, где больше F1, AUC-ROC тоже больше). \n",
    "\n",
    "В следующем пункте мы уберем дисбаланс разными способами и снова изучим результаты обучения моделей."
   ]
  },
  {
   "cell_type": "markdown",
   "metadata": {},
   "source": [
    "## Борьба с дисбалансом"
   ]
  },
  {
   "cell_type": "markdown",
   "metadata": {},
   "source": [
    "### Upsampling"
   ]
  },
  {
   "cell_type": "markdown",
   "metadata": {},
   "source": [
    "Попробуем победить дисбаланс, воспользовавшись техникой upsampling (увеличим количество положительных объектов до уровня отрицательных объектов. \n",
    "\n",
    "Для этого напишем функцию `upsample`"
   ]
  },
  {
   "cell_type": "code",
   "execution_count": 10,
   "metadata": {},
   "outputs": [],
   "source": [
    "def upsample(features, target, repeat):\n",
    "    features_zeros = features[target == 0]\n",
    "    features_ones = features[target == 1]\n",
    "    target_zeros = target[target == 0]\n",
    "    target_ones = target[target == 1]\n",
    "\n",
    "    features_upsampled = pd.concat([features_zeros] + [features_ones] * repeat)\n",
    "    target_upsampled = pd.concat([target_zeros] + [target_ones] * repeat)\n",
    "    \n",
    "    features_upsampled, target_upsampled = shuffle(\n",
    "        features_upsampled, target_upsampled, random_state=12345)\n",
    "    \n",
    "    return features_upsampled, target_upsampled"
   ]
  },
  {
   "cell_type": "markdown",
   "metadata": {},
   "source": [
    "Теперь воспользуемся новой функцией, чтобы получить сбалансированную выборку"
   ]
  },
  {
   "cell_type": "code",
   "execution_count": 11,
   "metadata": {
    "scrolled": true
   },
   "outputs": [
    {
     "name": "stdout",
     "output_type": "stream",
     "text": [
      "Количество отрицательных объектов: 4781\n",
      "Количество положительных объектов: 4876\n"
     ]
    }
   ],
   "source": [
    "features_upsampled, target_upsampled = upsample(features_train, target_train, 4)\n",
    "\n",
    "features_zeros = features_upsampled[target_upsampled == 0]\n",
    "features_ones = features_upsampled[target_upsampled == 1]\n",
    "\n",
    "print('Количество отрицательных объектов:', features_zeros.shape[0])\n",
    "print('Количество положительных объектов:', features_ones.shape[0])"
   ]
  },
  {
   "cell_type": "markdown",
   "metadata": {},
   "source": [
    "Новая выборка сбалансирована. Попробуем снова обучить модели на ней"
   ]
  },
  {
   "cell_type": "markdown",
   "metadata": {},
   "source": [
    "#### Решающее дерево"
   ]
  },
  {
   "cell_type": "code",
   "execution_count": 22,
   "metadata": {},
   "outputs": [
    {
     "name": "stdout",
     "output_type": "stream",
     "text": [
      "F1-мера наилучшей модели на валидационной выборке: 0.5915221579961464 , при глубине: 7\n",
      "AUC-ROC: 0.8195895014076833\n"
     ]
    }
   ],
   "source": [
    "best_model_dt_u = None\n",
    "best_result = 0\n",
    "best_depth = 0\n",
    "\n",
    "for depth in range(7,15):\n",
    "    \n",
    "    model_dt_u = DecisionTreeClassifier(max_depth=depth, random_state=12345)\n",
    "    model_dt_u.fit(features_upsampled, target_upsampled)\n",
    "    predicted_valid = model_dt_u.predict(features_valid)\n",
    "    \n",
    "    result = f1_score(predicted_valid, target_valid)\n",
    "    \n",
    "    if result > best_result:\n",
    "        best_model_dt_u = model_dt_u\n",
    "        best_depth = depth\n",
    "        best_result = result\n",
    "        probabilities_valid = model_dt_u.predict_proba(features_valid)\n",
    "        probabilities_one_valid = probabilities_valid[:, 1]\n",
    "        best_auc_roc = roc_auc_score(target_valid, probabilities_one_valid)\n",
    "    \n",
    "print(\"F1-мера наилучшей модели на валидационной выборке:\", best_result, ', при глубине:', best_depth)\n",
    "\n",
    "probabilities_valid = model_dt_u.predict_proba(features_valid)\n",
    "probabilities_one_valid = probabilities_valid[:, 1]\n",
    "\n",
    "print('AUC-ROC:', best_auc_roc)"
   ]
  },
  {
   "cell_type": "markdown",
   "metadata": {},
   "source": [
    "#### Случайный лес"
   ]
  },
  {
   "cell_type": "code",
   "execution_count": 14,
   "metadata": {
    "scrolled": false
   },
   "outputs": [
    {
     "name": "stdout",
     "output_type": "stream",
     "text": [
      "F1-мера наилучшей модели на валидационной выборке: 0.6118836915297091 , n_estimators: 69\n",
      "AUC-ROC: 0.8517272593278555\n"
     ]
    }
   ],
   "source": [
    "best_model_rf_u = None\n",
    "best_result = 0\n",
    "best_est = 0\n",
    "\n",
    "for est in range(1,80):\n",
    "    \n",
    "    model_rf_u = RandomForestClassifier(random_state=12345, n_estimators=est, max_depth = 20)\n",
    "    model_rf_u.fit(features_upsampled, target_upsampled)\n",
    "    predicted_valid = model_rf_u.predict(features_valid)\n",
    "    \n",
    "    result = f1_score(predicted_valid, target_valid)\n",
    "    \n",
    "    if result > best_result:\n",
    "        best_model_rf_u = model_rf_u\n",
    "        best_est = est\n",
    "        best_result = result\n",
    "        probabilities_valid = model_rf_u.predict_proba(features_valid)\n",
    "        probabilities_one_valid = probabilities_valid[:, 1]\n",
    "        best_auc_roc = roc_auc_score(target_valid, probabilities_one_valid)\n",
    "    \n",
    "print(\"F1-мера наилучшей модели на валидационной выборке:\", best_result, ', n_estimators:', best_est)\n",
    "print('AUC-ROC:', best_auc_roc)"
   ]
  },
  {
   "cell_type": "markdown",
   "metadata": {},
   "source": [
    "### Downsampling"
   ]
  },
  {
   "cell_type": "markdown",
   "metadata": {},
   "source": [
    "Теперь попробуем воспользоваться техникой downsampling (уменьшим количество отрицательных объектов до уровня положительных. \n",
    "\n",
    "Напишем функцию `downsample`"
   ]
  },
  {
   "cell_type": "code",
   "execution_count": 15,
   "metadata": {},
   "outputs": [],
   "source": [
    "def downsample(features, target, fraction):\n",
    "    features_zeros = features[target == 0]\n",
    "    features_ones = features[target == 1]\n",
    "    target_zeros = target[target == 0]\n",
    "    target_ones = target[target == 1]\n",
    "\n",
    "    features_downsampled = pd.concat(\n",
    "        [features_zeros.sample(frac=fraction, random_state=12345)] + [features_ones])\n",
    "    target_downsampled = pd.concat(\n",
    "        [target_zeros.sample(frac=fraction, random_state=12345)] + [target_ones])\n",
    "    \n",
    "    features_downsampled, target_downsampled = shuffle(\n",
    "        features_downsampled, target_downsampled, random_state=12345)\n",
    "    \n",
    "    return features_downsampled, target_downsampled"
   ]
  },
  {
   "cell_type": "markdown",
   "metadata": {},
   "source": [
    "Снова воспользуемся новой функцией, чтобы получить сбалансированную выборку"
   ]
  },
  {
   "cell_type": "code",
   "execution_count": 16,
   "metadata": {
    "scrolled": true
   },
   "outputs": [
    {
     "name": "stdout",
     "output_type": "stream",
     "text": [
      "Количество отрицательных объектов: 1195\n",
      "Количество положительных объектов: 1219\n"
     ]
    }
   ],
   "source": [
    "features_downsampled, target_downsampled = downsample(features_train, target_train, 0.25)\n",
    "\n",
    "features_zeros = features_downsampled[target_downsampled == 0]\n",
    "features_ones = features_downsampled[target_downsampled == 1]\n",
    "\n",
    "print('Количество отрицательных объектов:', features_zeros.shape[0])\n",
    "print('Количество положительных объектов:', features_ones.shape[0])"
   ]
  },
  {
   "cell_type": "markdown",
   "metadata": {},
   "source": [
    "Выборка снова сбалансирована, но другим способом. Теперь обучаем модели"
   ]
  },
  {
   "cell_type": "markdown",
   "metadata": {},
   "source": [
    "#### Логистическая регрессия"
   ]
  },
  {
   "cell_type": "code",
   "execution_count": 17,
   "metadata": {},
   "outputs": [
    {
     "name": "stdout",
     "output_type": "stream",
     "text": [
      "F1-мера: 0.44630616907844634\n",
      "AUC-ROC: 0.7217715220695847\n"
     ]
    }
   ],
   "source": [
    "model_lr_d = LogisticRegression(random_state=12345, solver='liblinear', max_iter=1000)\n",
    "model_lr_d.fit(features_downsampled, target_downsampled)\n",
    "predicted_valid = model_lr_d.predict(features_valid)\n",
    "\n",
    "print('F1-мера:', f1_score(predicted_valid, target_valid))\n",
    "\n",
    "probabilities_valid = model_lr_d.predict_proba(features_valid)\n",
    "probabilities_one_valid = probabilities_valid[:, 1]\n",
    "\n",
    "print('AUC-ROC:', roc_auc_score(target_valid, probabilities_one_valid))"
   ]
  },
  {
   "cell_type": "markdown",
   "metadata": {},
   "source": [
    "#### Решающее дерево"
   ]
  },
  {
   "cell_type": "code",
   "execution_count": 18,
   "metadata": {},
   "outputs": [
    {
     "name": "stdout",
     "output_type": "stream",
     "text": [
      "F1-мера наилучшей модели на валидационной выборке: 0.5798922800718134 , при глубине: 7\n",
      "AUC-ROC: 0.8202937152266511\n"
     ]
    }
   ],
   "source": [
    "best_model_dt_d = None\n",
    "best_result = 0\n",
    "best_depth = 0\n",
    "\n",
    "for depth in range(1,10):\n",
    "    \n",
    "    model = DecisionTreeClassifier(max_depth=depth, random_state=12345)\n",
    "    model.fit(features_downsampled, target_downsampled)\n",
    "    predicted_valid = model.predict(features_valid)\n",
    "    \n",
    "    result = f1_score(predicted_valid, target_valid)\n",
    "    \n",
    "    if result > best_result:\n",
    "        best_model = model\n",
    "        best_depth = depth\n",
    "        best_result = result\n",
    "        probabilities_valid = model.predict_proba(features_valid)\n",
    "        probabilities_one_valid = probabilities_valid[:, 1]\n",
    "        best_auc_roc = roc_auc_score(target_valid, probabilities_one_valid)\n",
    "    \n",
    "print(\"F1-мера наилучшей модели на валидационной выборке:\", best_result, ', при глубине:', best_depth)\n",
    "\n",
    "probabilities_valid = model.predict_proba(features_valid)\n",
    "probabilities_one_valid = probabilities_valid[:, 1]\n",
    "\n",
    "print('AUC-ROC:', best_auc_roc)"
   ]
  },
  {
   "cell_type": "markdown",
   "metadata": {},
   "source": [
    "#### Случайный лес"
   ]
  },
  {
   "cell_type": "code",
   "execution_count": 19,
   "metadata": {
    "scrolled": false
   },
   "outputs": [
    {
     "name": "stdout",
     "output_type": "stream",
     "text": [
      "F1-мера наилучшей модели на валидационной выборке: 0.595667870036101 , n_estimators: 62\n",
      "AUC-ROC: 0.8454585652797276\n"
     ]
    }
   ],
   "source": [
    "best_model_rf_d = None\n",
    "best_result = 0\n",
    "best_est = 0\n",
    "\n",
    "for est in range(1,80):\n",
    "    \n",
    "    model_rf_d = RandomForestClassifier(random_state=12345, n_estimators=est, max_depth = 20)\n",
    "    model_rf_d.fit(features_downsampled, target_downsampled)\n",
    "    predicted_valid = model_rf_d.predict(features_valid)\n",
    "    \n",
    "    result = f1_score(predicted_valid, target_valid)\n",
    "    \n",
    "    if result > best_result:\n",
    "        best_model_rf_d = model_rf_d\n",
    "        best_est = est\n",
    "        best_result = result\n",
    "        probabilities_valid = model_rf_d.predict_proba(features_valid)\n",
    "        probabilities_one_valid = probabilities_valid[:, 1]\n",
    "        best_auc_roc = roc_auc_score(target_valid, probabilities_one_valid)\n",
    "    \n",
    "print(\"F1-мера наилучшей модели на валидационной выборке:\", best_result, ', n_estimators:', best_est)\n",
    "print('AUC-ROC:', best_auc_roc)"
   ]
  },
  {
   "cell_type": "markdown",
   "metadata": {},
   "source": [
    "### Итоги"
   ]
  },
  {
   "cell_type": "markdown",
   "metadata": {},
   "source": [
    "Дисбаланс был убран двумя разными способами (upsampling и downsampling). Результаты обучения моделей по сбалансированным данным представлены ниже:"
   ]
  },
  {
   "cell_type": "code",
   "execution_count": 20,
   "metadata": {},
   "outputs": [
    {
     "data": {
      "text/html": [
       "<div>\n",
       "<style scoped>\n",
       "    .dataframe tbody tr th:only-of-type {\n",
       "        vertical-align: middle;\n",
       "    }\n",
       "\n",
       "    .dataframe tbody tr th {\n",
       "        vertical-align: top;\n",
       "    }\n",
       "\n",
       "    .dataframe thead th {\n",
       "        text-align: right;\n",
       "    }\n",
       "</style>\n",
       "<table border=\"1\" class=\"dataframe\">\n",
       "  <thead>\n",
       "    <tr style=\"text-align: right;\">\n",
       "      <th></th>\n",
       "      <th>UPSAMPLING</th>\n",
       "      <th>Тип модели</th>\n",
       "      <th>F1-мера</th>\n",
       "      <th>AUC-ROC</th>\n",
       "    </tr>\n",
       "  </thead>\n",
       "  <tbody>\n",
       "    <tr>\n",
       "      <th>0</th>\n",
       "      <td></td>\n",
       "      <td>Логистическая регрессия</td>\n",
       "      <td>0.45</td>\n",
       "      <td>0.72</td>\n",
       "    </tr>\n",
       "    <tr>\n",
       "      <th>1</th>\n",
       "      <td></td>\n",
       "      <td>Решающее дерево</td>\n",
       "      <td>0.60</td>\n",
       "      <td>0.83</td>\n",
       "    </tr>\n",
       "    <tr>\n",
       "      <th>2</th>\n",
       "      <td></td>\n",
       "      <td>Случайный лес</td>\n",
       "      <td>0.61</td>\n",
       "      <td>0.85</td>\n",
       "    </tr>\n",
       "  </tbody>\n",
       "</table>\n",
       "</div>"
      ],
      "text/plain": [
       "  UPSAMPLING               Тип модели  F1-мера  AUC-ROC\n",
       "0             Логистическая регрессия     0.45     0.72\n",
       "1                     Решающее дерево     0.60     0.83\n",
       "2                       Случайный лес     0.61     0.85"
      ]
     },
     "metadata": {},
     "output_type": "display_data"
    },
    {
     "data": {
      "text/html": [
       "<div>\n",
       "<style scoped>\n",
       "    .dataframe tbody tr th:only-of-type {\n",
       "        vertical-align: middle;\n",
       "    }\n",
       "\n",
       "    .dataframe tbody tr th {\n",
       "        vertical-align: top;\n",
       "    }\n",
       "\n",
       "    .dataframe thead th {\n",
       "        text-align: right;\n",
       "    }\n",
       "</style>\n",
       "<table border=\"1\" class=\"dataframe\">\n",
       "  <thead>\n",
       "    <tr style=\"text-align: right;\">\n",
       "      <th></th>\n",
       "      <th>DOWNSAMPLING</th>\n",
       "      <th>Тип модели</th>\n",
       "      <th>F1-мера</th>\n",
       "      <th>AUC-ROC</th>\n",
       "    </tr>\n",
       "  </thead>\n",
       "  <tbody>\n",
       "    <tr>\n",
       "      <th>0</th>\n",
       "      <td></td>\n",
       "      <td>Логистическая регрессия</td>\n",
       "      <td>0.45</td>\n",
       "      <td>0.72</td>\n",
       "    </tr>\n",
       "    <tr>\n",
       "      <th>1</th>\n",
       "      <td></td>\n",
       "      <td>Решающее дерево</td>\n",
       "      <td>0.58</td>\n",
       "      <td>0.82</td>\n",
       "    </tr>\n",
       "    <tr>\n",
       "      <th>2</th>\n",
       "      <td></td>\n",
       "      <td>Случайный лес</td>\n",
       "      <td>0.60</td>\n",
       "      <td>0.85</td>\n",
       "    </tr>\n",
       "  </tbody>\n",
       "</table>\n",
       "</div>"
      ],
      "text/plain": [
       "  DOWNSAMPLING               Тип модели  F1-мера  AUC-ROC\n",
       "0               Логистическая регрессия     0.45     0.72\n",
       "1                       Решающее дерево     0.58     0.82\n",
       "2                         Случайный лес     0.60     0.85"
      ]
     },
     "metadata": {},
     "output_type": "display_data"
    }
   ],
   "source": [
    "display(pd.DataFrame({'UPSAMPLING': ['', '', ''],\n",
    "        'Тип модели': ['Логистическая регрессия', 'Решающее дерево', 'Случайный лес'],\n",
    "        'F1-мера': [0.45, 0.60, 0.61],\n",
    "        'AUC-ROC': [0.72, 0.83, 0.85]\n",
    "        }))\n",
    "display(pd.DataFrame({'DOWNSAMPLING': ['', '', ''],\n",
    "        'Тип модели': ['Логистическая регрессия', 'Решающее дерево', 'Случайный лес'],\n",
    "        'F1-мера': [0.45, 0.58, 0.60],\n",
    "        'AUC-ROC': [0.72, 0.82, 0.85]\n",
    "        }))\n"
   ]
  },
  {
   "cell_type": "markdown",
   "metadata": {},
   "source": [
    "Как можно видеть, наилучших результатов получилось достичь при балансировке данных методом upsampling. Случайный лес показал метрики F1 - 0.61 и AUC-ROC - 0.85, что соответствует условию получения метрики F1 больше 0.59. \n",
    "\n",
    "Проверим эту модель на тестовой выборке и посмотрим на результаты в следующем пункте."
   ]
  },
  {
   "cell_type": "markdown",
   "metadata": {},
   "source": [
    "## Тестирование модели"
   ]
  },
  {
   "cell_type": "markdown",
   "metadata": {},
   "source": [
    "Наилучшим образом на валидационной выборке себя показала модель \"Случайный лес\". Теперь проведем ее тестирование на тестовой выборке. \n",
    "\n",
    "Сама модель у нас уже сохранена (`best_model_rf_u`). "
   ]
  },
  {
   "cell_type": "code",
   "execution_count": 21,
   "metadata": {},
   "outputs": [
    {
     "name": "stdout",
     "output_type": "stream",
     "text": [
      "F1-мера на тестовой выборке: 0.5952712100139081\n",
      "AUC-ROC: 0.8413185740694527\n"
     ]
    }
   ],
   "source": [
    "predicted_test = model_rf_u.predict(features_test)\n",
    "\n",
    "probabilities_test = model_rf_u.predict_proba(features_test)\n",
    "probabilities_one_test = probabilities_test[:, 1]\n",
    "\n",
    "print(\"F1-мера на тестовой выборке:\", f1_score(predicted_test, target_test))\n",
    "print('AUC-ROC:', roc_auc_score(target_test, probabilities_one_test))"
   ]
  },
  {
   "cell_type": "markdown",
   "metadata": {},
   "source": [
    "Результаты проверки модели на тестовой выборке также соответствуют условию, что F1-мера должна быть больше 0.59."
   ]
  },
  {
   "cell_type": "markdown",
   "metadata": {},
   "source": [
    "## Результаты"
   ]
  },
  {
   "cell_type": "markdown",
   "metadata": {},
   "source": [
    "В течение проекта были проведены следующие работы:\n",
    "\n",
    "* Импортированы и подготовлены данные\n",
    "* Исследован дисбаланс классов\n",
    "* Обучены модели разных типов с разными гиперпараметрами без учета дисбаланса\n",
    "* Данные были сбалансированы с помощью апсемплинга и даунсемплинга \n",
    "* Для каждого из способов балансировки снова обучены модели\n",
    "* Из всех моделей выбрана модель с наилучшими показателями на валидационной выборке\n",
    "* Проведено тестирование выбраной модели на тестовой выборке \n",
    "\n",
    "Наилучшей моделью оказался Случайный лес, обученный на данных, сбалансированных с помощью техники апсемплинг. Его метрики на валидационной выборке:\n",
    "\n",
    "F1 - 0.61   \n",
    "AUC-ROC - 0.85\n",
    "\n",
    "В результате проверки лучшей модели на тестовой выборке были получены метрики:\n",
    "\n",
    "F1 - 0.59   \n",
    "AUC-ROC - 0.84\n",
    "\n",
    "Полученные метрики соответствуют условию.\n",
    "\n",
    "Также по проведенному исследованию можно сделать вывод, что метрика AUC-ROC следует за F1 метрикой. Там, где мы видим увеличение метрики F1, увеличивается и метрика AUC-ROC. "
   ]
  },
  {
   "cell_type": "markdown",
   "metadata": {},
   "source": [
    "## Чек-лист готовности проекта"
   ]
  },
  {
   "cell_type": "markdown",
   "metadata": {},
   "source": [
    "Поставьте 'x' в выполненных пунктах. Далее нажмите Shift+Enter."
   ]
  },
  {
   "cell_type": "markdown",
   "metadata": {},
   "source": [
    "- [x]  Jupyter Notebook открыт\n",
    "- [x]  Весь код выполняется без ошибок\n",
    "- [x]  Ячейки с кодом расположены в порядке исполнения\n",
    "- [x]  Выполнен шаг 1: данные подготовлены\n",
    "- [x]  Выполнен шаг 2: задача исследована\n",
    "    - [x]  Исследован баланс классов\n",
    "    - [x]  Изучены модели без учёта дисбаланса\n",
    "    - [x]  Написаны выводы по результатам исследования\n",
    "- [x]  Выполнен шаг 3: учтён дисбаланс\n",
    "    - [x]  Применено несколько способов борьбы с дисбалансом\n",
    "    - [x]  Написаны выводы по результатам исследования\n",
    "- [x]  Выполнен шаг 4: проведено тестирование\n",
    "- [x]  Удалось достичь *F1*-меры не менее 0.59\n",
    "- [x]  Исследована метрика *AUC-ROC*"
   ]
  },
  {
   "cell_type": "code",
   "execution_count": null,
   "metadata": {},
   "outputs": [],
   "source": []
  }
 ],
 "metadata": {
  "ExecuteTimeLog": [
   {
    "duration": 431,
    "start_time": "2022-07-04T20:48:52.620Z"
   },
   {
    "duration": 29,
    "start_time": "2022-07-04T21:16:19.128Z"
   },
   {
    "duration": 3,
    "start_time": "2022-07-04T21:17:59.321Z"
   },
   {
    "duration": 3,
    "start_time": "2022-07-04T21:18:02.948Z"
   },
   {
    "duration": 3,
    "start_time": "2022-07-04T21:18:18.910Z"
   },
   {
    "duration": 54,
    "start_time": "2022-07-04T21:18:21.809Z"
   },
   {
    "duration": 111,
    "start_time": "2022-07-04T21:18:30.829Z"
   },
   {
    "duration": 32,
    "start_time": "2022-07-04T21:18:49.589Z"
   },
   {
    "duration": 50,
    "start_time": "2022-07-04T21:19:03.557Z"
   },
   {
    "duration": 3,
    "start_time": "2022-07-04T21:19:10.490Z"
   },
   {
    "duration": 47,
    "start_time": "2022-07-04T21:19:43.429Z"
   },
   {
    "duration": 2,
    "start_time": "2022-07-04T21:20:21.809Z"
   },
   {
    "duration": 44,
    "start_time": "2022-07-04T21:20:40.389Z"
   },
   {
    "duration": 59,
    "start_time": "2022-07-04T21:20:46.789Z"
   },
   {
    "duration": 17,
    "start_time": "2022-07-04T21:26:21.009Z"
   },
   {
    "duration": 16,
    "start_time": "2022-07-04T21:26:40.416Z"
   },
   {
    "duration": 580,
    "start_time": "2022-07-04T21:26:58.488Z"
   },
   {
    "duration": 11,
    "start_time": "2022-07-04T21:27:01.109Z"
   },
   {
    "duration": 10,
    "start_time": "2022-07-04T21:27:23.728Z"
   },
   {
    "duration": 20,
    "start_time": "2022-07-04T21:27:39.609Z"
   },
   {
    "duration": 22,
    "start_time": "2022-07-04T21:27:48.769Z"
   },
   {
    "duration": 23,
    "start_time": "2022-07-04T21:27:59.181Z"
   },
   {
    "duration": 13,
    "start_time": "2022-07-04T21:28:02.690Z"
   },
   {
    "duration": 13,
    "start_time": "2022-07-04T21:28:35.529Z"
   },
   {
    "duration": 13,
    "start_time": "2022-07-04T21:30:14.726Z"
   },
   {
    "duration": 45,
    "start_time": "2022-07-04T21:30:20.759Z"
   },
   {
    "duration": 46,
    "start_time": "2022-07-04T21:36:03.230Z"
   },
   {
    "duration": 14,
    "start_time": "2022-07-04T21:40:43.610Z"
   },
   {
    "duration": 43,
    "start_time": "2022-07-04T21:45:02.471Z"
   },
   {
    "duration": 55,
    "start_time": "2022-07-05T18:55:13.380Z"
   },
   {
    "duration": 1097,
    "start_time": "2022-07-05T18:55:22.939Z"
   },
   {
    "duration": 85,
    "start_time": "2022-07-05T18:55:24.038Z"
   },
   {
    "duration": 1176,
    "start_time": "2022-07-05T18:55:24.125Z"
   },
   {
    "duration": 0,
    "start_time": "2022-07-05T18:55:25.303Z"
   },
   {
    "duration": 824,
    "start_time": "2022-07-05T18:55:33.349Z"
   },
   {
    "duration": 8,
    "start_time": "2022-07-05T18:55:41.098Z"
   },
   {
    "duration": 6,
    "start_time": "2022-07-05T18:55:55.296Z"
   },
   {
    "duration": 64,
    "start_time": "2022-07-05T18:56:01.076Z"
   },
   {
    "duration": 59,
    "start_time": "2022-07-05T18:56:04.400Z"
   },
   {
    "duration": 5,
    "start_time": "2022-07-05T18:56:08.913Z"
   },
   {
    "duration": 51,
    "start_time": "2022-07-05T18:56:14.380Z"
   },
   {
    "duration": 9,
    "start_time": "2022-07-05T18:56:30.508Z"
   },
   {
    "duration": 8,
    "start_time": "2022-07-05T18:56:46.547Z"
   },
   {
    "duration": 79,
    "start_time": "2022-07-05T18:56:59.013Z"
   },
   {
    "duration": 5,
    "start_time": "2022-07-05T18:57:18.387Z"
   },
   {
    "duration": 16,
    "start_time": "2022-07-05T18:57:31.706Z"
   },
   {
    "duration": 55,
    "start_time": "2022-07-05T18:57:37.258Z"
   },
   {
    "duration": 6,
    "start_time": "2022-07-05T18:57:40.506Z"
   },
   {
    "duration": 1108,
    "start_time": "2022-07-05T18:58:06.819Z"
   },
   {
    "duration": 53,
    "start_time": "2022-07-05T18:58:07.930Z"
   },
   {
    "duration": 5,
    "start_time": "2022-07-05T18:58:07.985Z"
   },
   {
    "duration": 16,
    "start_time": "2022-07-05T18:58:07.993Z"
   },
   {
    "duration": 13,
    "start_time": "2022-07-05T19:10:26.144Z"
   },
   {
    "duration": 10,
    "start_time": "2022-07-05T19:10:49.528Z"
   },
   {
    "duration": 9,
    "start_time": "2022-07-05T19:10:56.548Z"
   },
   {
    "duration": 8,
    "start_time": "2022-07-05T19:11:03.415Z"
   },
   {
    "duration": 7,
    "start_time": "2022-07-05T19:11:36.707Z"
   },
   {
    "duration": 9,
    "start_time": "2022-07-05T19:11:47.287Z"
   },
   {
    "duration": 11,
    "start_time": "2022-07-05T19:12:02.847Z"
   },
   {
    "duration": 9,
    "start_time": "2022-07-05T19:12:09.595Z"
   },
   {
    "duration": 70,
    "start_time": "2022-07-05T19:15:19.118Z"
   },
   {
    "duration": 1230,
    "start_time": "2022-07-05T19:42:22.509Z"
   },
   {
    "duration": 57,
    "start_time": "2022-07-05T19:42:23.741Z"
   },
   {
    "duration": 5,
    "start_time": "2022-07-05T19:42:23.800Z"
   },
   {
    "duration": 24,
    "start_time": "2022-07-05T19:42:23.807Z"
   },
   {
    "duration": 8,
    "start_time": "2022-07-05T19:42:23.833Z"
   },
   {
    "duration": 4,
    "start_time": "2022-07-05T19:49:45.594Z"
   },
   {
    "duration": 117,
    "start_time": "2022-07-05T19:52:50.885Z"
   },
   {
    "duration": 23,
    "start_time": "2022-07-05T19:52:56.916Z"
   },
   {
    "duration": 22,
    "start_time": "2022-07-05T19:55:01.388Z"
   },
   {
    "duration": 36,
    "start_time": "2022-07-05T19:59:57.878Z"
   },
   {
    "duration": 36,
    "start_time": "2022-07-05T20:00:48.938Z"
   },
   {
    "duration": 25,
    "start_time": "2022-07-05T20:02:36.828Z"
   },
   {
    "duration": 1268,
    "start_time": "2022-07-05T20:02:43.697Z"
   },
   {
    "duration": 85,
    "start_time": "2022-07-05T20:02:44.967Z"
   },
   {
    "duration": 6,
    "start_time": "2022-07-05T20:02:45.054Z"
   },
   {
    "duration": 25,
    "start_time": "2022-07-05T20:02:45.062Z"
   },
   {
    "duration": 12,
    "start_time": "2022-07-05T20:02:45.090Z"
   },
   {
    "duration": 12,
    "start_time": "2022-07-05T20:02:45.125Z"
   },
   {
    "duration": 139,
    "start_time": "2022-07-05T20:04:23.795Z"
   },
   {
    "duration": 317,
    "start_time": "2022-07-05T20:04:33.493Z"
   },
   {
    "duration": 33,
    "start_time": "2022-07-05T20:05:24.808Z"
   },
   {
    "duration": 18,
    "start_time": "2022-07-05T20:05:32.156Z"
   },
   {
    "duration": 14,
    "start_time": "2022-07-05T20:07:43.366Z"
   },
   {
    "duration": 4,
    "start_time": "2022-07-05T20:08:29.927Z"
   },
   {
    "duration": 29,
    "start_time": "2022-07-05T20:09:12.988Z"
   },
   {
    "duration": 27,
    "start_time": "2022-07-05T20:09:21.776Z"
   },
   {
    "duration": 721,
    "start_time": "2022-07-05T20:09:24.611Z"
   },
   {
    "duration": 1435,
    "start_time": "2022-07-05T20:10:01.093Z"
   },
   {
    "duration": 60,
    "start_time": "2022-07-05T20:11:54.264Z"
   },
   {
    "duration": 714,
    "start_time": "2022-07-05T20:11:59.010Z"
   },
   {
    "duration": 10656,
    "start_time": "2022-07-05T20:12:22.669Z"
   },
   {
    "duration": 1287,
    "start_time": "2022-07-05T20:13:08.906Z"
   },
   {
    "duration": 1297,
    "start_time": "2022-07-05T20:13:13.635Z"
   },
   {
    "duration": 176,
    "start_time": "2022-07-05T20:13:28.574Z"
   },
   {
    "duration": 49,
    "start_time": "2022-07-05T20:16:27.276Z"
   },
   {
    "duration": 334,
    "start_time": "2022-07-05T20:17:26.605Z"
   },
   {
    "duration": 7,
    "start_time": "2022-07-05T20:17:38.847Z"
   },
   {
    "duration": 226,
    "start_time": "2022-07-05T20:17:43.020Z"
   },
   {
    "duration": 48,
    "start_time": "2022-07-05T20:20:34.213Z"
   },
   {
    "duration": 59,
    "start_time": "2022-07-05T20:20:37.877Z"
   },
   {
    "duration": 88,
    "start_time": "2022-07-05T20:21:03.139Z"
   },
   {
    "duration": 46,
    "start_time": "2022-07-05T20:23:09.926Z"
   },
   {
    "duration": 31036,
    "start_time": "2022-07-05T20:25:13.500Z"
   },
   {
    "duration": 12659,
    "start_time": "2022-07-05T20:26:21.997Z"
   },
   {
    "duration": 35061,
    "start_time": "2022-07-05T20:26:49.278Z"
   },
   {
    "duration": 230,
    "start_time": "2022-07-05T20:28:12.300Z"
   },
   {
    "duration": 1605,
    "start_time": "2022-07-06T18:45:20.668Z"
   },
   {
    "duration": 99,
    "start_time": "2022-07-06T18:45:22.280Z"
   },
   {
    "duration": 6,
    "start_time": "2022-07-06T18:45:22.381Z"
   },
   {
    "duration": 31,
    "start_time": "2022-07-06T18:45:22.389Z"
   },
   {
    "duration": 30,
    "start_time": "2022-07-06T18:45:22.423Z"
   },
   {
    "duration": 100,
    "start_time": "2022-07-06T18:45:22.454Z"
   },
   {
    "duration": 199,
    "start_time": "2022-07-06T18:45:22.560Z"
   },
   {
    "duration": 0,
    "start_time": "2022-07-06T18:45:22.761Z"
   },
   {
    "duration": 153,
    "start_time": "2022-07-06T18:45:55.972Z"
   },
   {
    "duration": 187,
    "start_time": "2022-07-06T18:46:37.190Z"
   },
   {
    "duration": 224,
    "start_time": "2022-07-06T18:47:32.167Z"
   },
   {
    "duration": 354,
    "start_time": "2022-07-06T18:48:29.811Z"
   },
   {
    "duration": 202,
    "start_time": "2022-07-06T18:48:32.276Z"
   },
   {
    "duration": 167,
    "start_time": "2022-07-06T18:51:04.483Z"
   },
   {
    "duration": 626,
    "start_time": "2022-07-06T18:51:18.774Z"
   },
   {
    "duration": 52,
    "start_time": "2022-07-06T18:51:34.511Z"
   },
   {
    "duration": 176,
    "start_time": "2022-07-06T18:51:48.479Z"
   },
   {
    "duration": 60,
    "start_time": "2022-07-06T18:52:04.758Z"
   },
   {
    "duration": 1135,
    "start_time": "2022-07-06T18:52:07.192Z"
   },
   {
    "duration": 74,
    "start_time": "2022-07-06T18:52:09.105Z"
   },
   {
    "duration": 5,
    "start_time": "2022-07-06T18:52:13.321Z"
   },
   {
    "duration": 23,
    "start_time": "2022-07-06T18:52:14.567Z"
   },
   {
    "duration": 10,
    "start_time": "2022-07-06T18:52:16.802Z"
   },
   {
    "duration": 87,
    "start_time": "2022-07-06T18:52:19.475Z"
   },
   {
    "duration": 43,
    "start_time": "2022-07-06T18:52:40.356Z"
   },
   {
    "duration": 8,
    "start_time": "2022-07-06T18:53:15.862Z"
   },
   {
    "duration": 246,
    "start_time": "2022-07-06T18:53:20.742Z"
   },
   {
    "duration": 217,
    "start_time": "2022-07-06T18:54:01.293Z"
   },
   {
    "duration": 1337,
    "start_time": "2022-07-06T18:54:06.968Z"
   },
   {
    "duration": 82,
    "start_time": "2022-07-06T18:54:08.308Z"
   },
   {
    "duration": 10,
    "start_time": "2022-07-06T18:54:08.393Z"
   },
   {
    "duration": 34,
    "start_time": "2022-07-06T18:54:08.406Z"
   },
   {
    "duration": 18,
    "start_time": "2022-07-06T18:54:08.443Z"
   },
   {
    "duration": 106,
    "start_time": "2022-07-06T18:54:08.463Z"
   },
   {
    "duration": 334,
    "start_time": "2022-07-06T18:54:08.571Z"
   },
   {
    "duration": 101,
    "start_time": "2022-07-06T18:54:08.908Z"
   },
   {
    "duration": 209,
    "start_time": "2022-07-06T18:54:26.558Z"
   },
   {
    "duration": 482,
    "start_time": "2022-07-06T18:56:47.760Z"
   },
   {
    "duration": 399,
    "start_time": "2022-07-06T18:56:56.346Z"
   },
   {
    "duration": 34227,
    "start_time": "2022-07-06T18:57:51.790Z"
   },
   {
    "duration": 4508,
    "start_time": "2022-07-06T18:59:58.973Z"
   },
   {
    "duration": 7445,
    "start_time": "2022-07-06T19:00:15.201Z"
   },
   {
    "duration": 8049,
    "start_time": "2022-07-06T19:01:29.071Z"
   },
   {
    "duration": 186,
    "start_time": "2022-07-06T19:03:17.164Z"
   },
   {
    "duration": 7714,
    "start_time": "2022-07-06T19:03:22.766Z"
   },
   {
    "duration": 5346,
    "start_time": "2022-07-06T19:04:03.889Z"
   },
   {
    "duration": 6359,
    "start_time": "2022-07-06T19:04:14.660Z"
   },
   {
    "duration": 18886,
    "start_time": "2022-07-06T19:04:29.510Z"
   },
   {
    "duration": 18604,
    "start_time": "2022-07-06T19:06:35.908Z"
   },
   {
    "duration": 4,
    "start_time": "2022-07-06T19:12:53.735Z"
   },
   {
    "duration": 7,
    "start_time": "2022-07-06T19:12:58.054Z"
   },
   {
    "duration": 26,
    "start_time": "2022-07-06T19:15:21.547Z"
   },
   {
    "duration": 3,
    "start_time": "2022-07-06T19:15:33.387Z"
   },
   {
    "duration": 12,
    "start_time": "2022-07-06T19:15:40.454Z"
   },
   {
    "duration": 5,
    "start_time": "2022-07-06T19:15:42.961Z"
   },
   {
    "duration": 15,
    "start_time": "2022-07-06T19:17:11.891Z"
   },
   {
    "duration": 14,
    "start_time": "2022-07-06T19:17:18.587Z"
   },
   {
    "duration": 47,
    "start_time": "2022-07-06T19:18:20.958Z"
   },
   {
    "duration": 235,
    "start_time": "2022-07-06T19:18:34.863Z"
   },
   {
    "duration": 236,
    "start_time": "2022-07-06T19:20:33.949Z"
   },
   {
    "duration": 24394,
    "start_time": "2022-07-06T19:21:02.166Z"
   },
   {
    "duration": 176,
    "start_time": "2022-07-06T19:22:01.957Z"
   },
   {
    "duration": 633,
    "start_time": "2022-07-06T19:22:12.518Z"
   },
   {
    "duration": 228,
    "start_time": "2022-07-06T19:22:18.737Z"
   },
   {
    "duration": 34867,
    "start_time": "2022-07-06T19:22:38.087Z"
   },
   {
    "duration": 93,
    "start_time": "2022-07-06T19:24:11.066Z"
   },
   {
    "duration": 1163,
    "start_time": "2022-07-06T19:24:23.098Z"
   },
   {
    "duration": 61,
    "start_time": "2022-07-06T19:24:24.263Z"
   },
   {
    "duration": 6,
    "start_time": "2022-07-06T19:24:24.326Z"
   },
   {
    "duration": 33,
    "start_time": "2022-07-06T19:24:24.334Z"
   },
   {
    "duration": 10,
    "start_time": "2022-07-06T19:24:24.371Z"
   },
   {
    "duration": 172,
    "start_time": "2022-07-06T19:24:24.383Z"
   },
   {
    "duration": 238,
    "start_time": "2022-07-06T19:24:24.564Z"
   },
   {
    "duration": 17708,
    "start_time": "2022-07-06T19:24:24.804Z"
   },
   {
    "duration": 4,
    "start_time": "2022-07-06T19:24:42.514Z"
   },
   {
    "duration": 39,
    "start_time": "2022-07-06T19:24:42.520Z"
   },
   {
    "duration": 99,
    "start_time": "2022-07-06T19:24:42.560Z"
   },
   {
    "duration": 311,
    "start_time": "2022-07-06T19:24:42.746Z"
   },
   {
    "duration": 24523,
    "start_time": "2022-07-06T19:24:43.058Z"
   },
   {
    "duration": 24439,
    "start_time": "2022-07-06T19:27:51.768Z"
   },
   {
    "duration": 117,
    "start_time": "2022-07-06T19:30:40.588Z"
   },
   {
    "duration": 6,
    "start_time": "2022-07-06T19:30:55.960Z"
   },
   {
    "duration": 15,
    "start_time": "2022-07-06T19:30:58.450Z"
   },
   {
    "duration": 149,
    "start_time": "2022-07-06T19:33:02.498Z"
   },
   {
    "duration": 113,
    "start_time": "2022-07-06T19:33:10.465Z"
   },
   {
    "duration": 10508,
    "start_time": "2022-07-06T19:33:19.560Z"
   },
   {
    "duration": 1173,
    "start_time": "2022-07-06T19:33:48.519Z"
   },
   {
    "duration": 62,
    "start_time": "2022-07-06T19:33:49.694Z"
   },
   {
    "duration": 5,
    "start_time": "2022-07-06T19:33:49.764Z"
   },
   {
    "duration": 20,
    "start_time": "2022-07-06T19:33:49.771Z"
   },
   {
    "duration": 8,
    "start_time": "2022-07-06T19:33:49.793Z"
   },
   {
    "duration": 163,
    "start_time": "2022-07-06T19:33:49.803Z"
   },
   {
    "duration": 266,
    "start_time": "2022-07-06T19:33:49.971Z"
   },
   {
    "duration": 17386,
    "start_time": "2022-07-06T19:33:50.239Z"
   },
   {
    "duration": 4,
    "start_time": "2022-07-06T19:34:07.627Z"
   },
   {
    "duration": 22,
    "start_time": "2022-07-06T19:34:07.646Z"
   },
   {
    "duration": 185,
    "start_time": "2022-07-06T19:34:07.670Z"
   },
   {
    "duration": 388,
    "start_time": "2022-07-06T19:34:07.857Z"
   },
   {
    "duration": 23622,
    "start_time": "2022-07-06T19:34:08.247Z"
   },
   {
    "duration": 6,
    "start_time": "2022-07-06T19:34:31.872Z"
   },
   {
    "duration": 25,
    "start_time": "2022-07-06T19:34:31.880Z"
   },
   {
    "duration": 138,
    "start_time": "2022-07-06T19:34:31.907Z"
   },
   {
    "duration": 203,
    "start_time": "2022-07-06T19:34:32.047Z"
   },
   {
    "duration": 10176,
    "start_time": "2022-07-06T19:34:32.253Z"
   },
   {
    "duration": 50,
    "start_time": "2022-07-07T17:14:57.888Z"
   },
   {
    "duration": 1324,
    "start_time": "2022-07-07T17:15:07.825Z"
   },
   {
    "duration": 255,
    "start_time": "2022-07-07T17:15:09.152Z"
   },
   {
    "duration": 6,
    "start_time": "2022-07-07T17:15:09.409Z"
   },
   {
    "duration": 25,
    "start_time": "2022-07-07T17:15:09.418Z"
   },
   {
    "duration": 12,
    "start_time": "2022-07-07T17:15:09.446Z"
   },
   {
    "duration": 108,
    "start_time": "2022-07-07T17:15:09.462Z"
   },
   {
    "duration": 247,
    "start_time": "2022-07-07T17:15:09.572Z"
   },
   {
    "duration": 17300,
    "start_time": "2022-07-07T17:15:09.821Z"
   },
   {
    "duration": 4,
    "start_time": "2022-07-07T17:15:27.123Z"
   },
   {
    "duration": 32,
    "start_time": "2022-07-07T17:15:27.128Z"
   },
   {
    "duration": 46,
    "start_time": "2022-07-07T17:15:27.168Z"
   },
   {
    "duration": 303,
    "start_time": "2022-07-07T17:15:27.254Z"
   },
   {
    "duration": 22979,
    "start_time": "2022-07-07T17:15:27.558Z"
   },
   {
    "duration": 4,
    "start_time": "2022-07-07T17:15:50.539Z"
   },
   {
    "duration": 21,
    "start_time": "2022-07-07T17:15:50.544Z"
   },
   {
    "duration": 49,
    "start_time": "2022-07-07T17:15:50.566Z"
   },
   {
    "duration": 189,
    "start_time": "2022-07-07T17:15:50.660Z"
   },
   {
    "duration": 10520,
    "start_time": "2022-07-07T17:15:50.855Z"
   },
   {
    "duration": 23933,
    "start_time": "2022-07-07T17:16:27.168Z"
   },
   {
    "duration": 8,
    "start_time": "2022-07-07T17:18:07.987Z"
   },
   {
    "duration": 121,
    "start_time": "2022-07-07T17:19:35.699Z"
   },
   {
    "duration": 12,
    "start_time": "2022-07-07T17:19:42.387Z"
   },
   {
    "duration": 16,
    "start_time": "2022-07-07T17:20:05.979Z"
   },
   {
    "duration": 7,
    "start_time": "2022-07-07T17:22:00.270Z"
   },
   {
    "duration": 11,
    "start_time": "2022-07-07T17:23:01.072Z"
   },
   {
    "duration": 11,
    "start_time": "2022-07-07T17:23:33.668Z"
   },
   {
    "duration": 10,
    "start_time": "2022-07-07T17:25:58.980Z"
   },
   {
    "duration": 11165,
    "start_time": "2022-07-07T17:27:08.705Z"
   },
   {
    "duration": 11,
    "start_time": "2022-07-07T17:27:51.999Z"
   },
   {
    "duration": 12,
    "start_time": "2022-07-07T17:28:49.979Z"
   },
   {
    "duration": 10,
    "start_time": "2022-07-07T17:28:59.304Z"
   },
   {
    "duration": 11,
    "start_time": "2022-07-07T17:29:07.881Z"
   },
   {
    "duration": 10,
    "start_time": "2022-07-07T17:29:09.987Z"
   },
   {
    "duration": 24,
    "start_time": "2022-07-07T17:29:16.671Z"
   },
   {
    "duration": 11,
    "start_time": "2022-07-07T17:29:26.980Z"
   },
   {
    "duration": 13,
    "start_time": "2022-07-07T17:29:39.768Z"
   },
   {
    "duration": 10,
    "start_time": "2022-07-07T17:29:45.595Z"
   },
   {
    "duration": 14,
    "start_time": "2022-07-07T17:30:02.582Z"
   },
   {
    "duration": 30,
    "start_time": "2022-07-07T17:30:08.274Z"
   },
   {
    "duration": 21,
    "start_time": "2022-07-07T17:31:30.995Z"
   },
   {
    "duration": 20,
    "start_time": "2022-07-07T17:32:04.386Z"
   },
   {
    "duration": 34,
    "start_time": "2022-07-07T17:36:39.374Z"
   },
   {
    "duration": 30,
    "start_time": "2022-07-07T17:37:13.952Z"
   },
   {
    "duration": 17,
    "start_time": "2022-07-07T17:37:20.578Z"
   },
   {
    "duration": 11,
    "start_time": "2022-07-07T17:39:40.723Z"
   },
   {
    "duration": 10,
    "start_time": "2022-07-07T17:39:42.911Z"
   },
   {
    "duration": 16,
    "start_time": "2022-07-07T17:50:30.212Z"
   },
   {
    "duration": 72,
    "start_time": "2022-07-07T17:59:17.887Z"
   },
   {
    "duration": 230,
    "start_time": "2022-07-07T17:59:37.999Z"
   },
   {
    "duration": 233,
    "start_time": "2022-07-07T18:00:08.727Z"
   },
   {
    "duration": 23541,
    "start_time": "2022-07-07T18:01:02.941Z"
   },
   {
    "duration": 81,
    "start_time": "2022-07-07T18:02:03.175Z"
   },
   {
    "duration": 1181,
    "start_time": "2022-07-07T18:11:07.845Z"
   },
   {
    "duration": 81,
    "start_time": "2022-07-07T18:11:09.029Z"
   },
   {
    "duration": 5,
    "start_time": "2022-07-07T18:11:09.112Z"
   },
   {
    "duration": 21,
    "start_time": "2022-07-07T18:11:09.119Z"
   },
   {
    "duration": 10,
    "start_time": "2022-07-07T18:11:09.142Z"
   },
   {
    "duration": 99,
    "start_time": "2022-07-07T18:11:09.154Z"
   },
   {
    "duration": 246,
    "start_time": "2022-07-07T18:11:09.255Z"
   },
   {
    "duration": 17479,
    "start_time": "2022-07-07T18:11:09.502Z"
   },
   {
    "duration": 10,
    "start_time": "2022-07-07T18:11:26.982Z"
   },
   {
    "duration": 7,
    "start_time": "2022-07-07T18:11:26.993Z"
   },
   {
    "duration": 19,
    "start_time": "2022-07-07T18:11:27.001Z"
   },
   {
    "duration": 143,
    "start_time": "2022-07-07T18:11:27.021Z"
   },
   {
    "duration": 386,
    "start_time": "2022-07-07T18:11:27.166Z"
   },
   {
    "duration": 23434,
    "start_time": "2022-07-07T18:11:27.555Z"
   },
   {
    "duration": 4,
    "start_time": "2022-07-07T18:11:50.992Z"
   },
   {
    "duration": 17,
    "start_time": "2022-07-07T18:11:50.998Z"
   },
   {
    "duration": 54,
    "start_time": "2022-07-07T18:11:51.017Z"
   },
   {
    "duration": 264,
    "start_time": "2022-07-07T18:11:51.073Z"
   },
   {
    "duration": 10999,
    "start_time": "2022-07-07T18:11:51.339Z"
   },
   {
    "duration": 31,
    "start_time": "2022-07-07T18:12:02.340Z"
   },
   {
    "duration": 99,
    "start_time": "2022-07-07T18:12:02.374Z"
   },
   {
    "duration": 19116,
    "start_time": "2022-07-07T18:12:52.590Z"
   },
   {
    "duration": 66,
    "start_time": "2022-07-07T18:13:57.109Z"
   },
   {
    "duration": 61,
    "start_time": "2022-07-07T18:14:02.566Z"
   },
   {
    "duration": 58,
    "start_time": "2022-07-07T18:14:03.590Z"
   },
   {
    "duration": 27791,
    "start_time": "2022-07-07T18:14:14.633Z"
   },
   {
    "duration": 91,
    "start_time": "2022-07-07T18:14:50.483Z"
   },
   {
    "duration": 105,
    "start_time": "2022-07-07T18:15:19.793Z"
   },
   {
    "duration": 8,
    "start_time": "2022-07-07T18:15:25.774Z"
   },
   {
    "duration": 50,
    "start_time": "2022-07-07T18:15:43.788Z"
   },
   {
    "duration": 88,
    "start_time": "2022-07-07T18:15:49.726Z"
   },
   {
    "duration": 23109,
    "start_time": "2022-07-07T18:16:07.590Z"
   },
   {
    "duration": 76,
    "start_time": "2022-07-07T18:16:38.801Z"
   },
   {
    "duration": 29943,
    "start_time": "2022-07-07T18:16:48.887Z"
   },
   {
    "duration": 100,
    "start_time": "2022-07-07T18:17:25.747Z"
   },
   {
    "duration": 12297,
    "start_time": "2022-07-07T18:17:54.169Z"
   },
   {
    "duration": 29,
    "start_time": "2022-07-07T18:18:44.444Z"
   },
   {
    "duration": 105,
    "start_time": "2022-07-07T18:19:16.770Z"
   },
   {
    "duration": 1210,
    "start_time": "2022-07-07T18:30:58.429Z"
   },
   {
    "duration": 83,
    "start_time": "2022-07-07T18:30:59.641Z"
   },
   {
    "duration": 6,
    "start_time": "2022-07-07T18:30:59.726Z"
   },
   {
    "duration": 24,
    "start_time": "2022-07-07T18:30:59.735Z"
   },
   {
    "duration": 20,
    "start_time": "2022-07-07T18:30:59.761Z"
   },
   {
    "duration": 92,
    "start_time": "2022-07-07T18:30:59.783Z"
   },
   {
    "duration": 325,
    "start_time": "2022-07-07T18:30:59.878Z"
   },
   {
    "duration": 17159,
    "start_time": "2022-07-07T18:31:00.205Z"
   },
   {
    "duration": 15,
    "start_time": "2022-07-07T18:31:17.366Z"
   },
   {
    "duration": 5,
    "start_time": "2022-07-07T18:31:17.384Z"
   },
   {
    "duration": 26,
    "start_time": "2022-07-07T18:31:17.391Z"
   },
   {
    "duration": 151,
    "start_time": "2022-07-07T18:31:17.419Z"
   },
   {
    "duration": 384,
    "start_time": "2022-07-07T18:31:17.572Z"
   },
   {
    "duration": 28921,
    "start_time": "2022-07-07T18:31:17.958Z"
   },
   {
    "duration": 4,
    "start_time": "2022-07-07T18:31:46.881Z"
   },
   {
    "duration": 20,
    "start_time": "2022-07-07T18:31:46.887Z"
   },
   {
    "duration": 64,
    "start_time": "2022-07-07T18:31:46.910Z"
   },
   {
    "duration": 307,
    "start_time": "2022-07-07T18:31:46.976Z"
   },
   {
    "duration": 12154,
    "start_time": "2022-07-07T18:31:47.285Z"
   },
   {
    "duration": 33,
    "start_time": "2022-07-07T18:31:59.440Z"
   },
   {
    "duration": 128,
    "start_time": "2022-07-07T18:31:59.476Z"
   },
   {
    "duration": 19977,
    "start_time": "2022-07-07T18:43:01.489Z"
   },
   {
    "duration": 10,
    "start_time": "2022-07-07T18:44:32.864Z"
   },
   {
    "duration": 1024,
    "start_time": "2022-07-07T18:44:40.113Z"
   },
   {
    "duration": 64,
    "start_time": "2022-07-07T18:44:41.139Z"
   },
   {
    "duration": 4,
    "start_time": "2022-07-07T18:44:41.205Z"
   },
   {
    "duration": 18,
    "start_time": "2022-07-07T18:44:41.211Z"
   },
   {
    "duration": 8,
    "start_time": "2022-07-07T18:44:41.230Z"
   },
   {
    "duration": 45,
    "start_time": "2022-07-07T18:44:41.239Z"
   },
   {
    "duration": 294,
    "start_time": "2022-07-07T18:44:41.286Z"
   },
   {
    "duration": 20005,
    "start_time": "2022-07-07T18:44:41.582Z"
   },
   {
    "duration": 9,
    "start_time": "2022-07-07T18:45:01.589Z"
   },
   {
    "duration": 14,
    "start_time": "2022-07-07T18:45:01.600Z"
   },
   {
    "duration": 19,
    "start_time": "2022-07-07T18:45:01.616Z"
   },
   {
    "duration": 121,
    "start_time": "2022-07-07T18:45:01.636Z"
   },
   {
    "duration": 279,
    "start_time": "2022-07-07T18:45:01.759Z"
   },
   {
    "duration": 27971,
    "start_time": "2022-07-07T18:45:02.040Z"
   },
   {
    "duration": 5,
    "start_time": "2022-07-07T18:45:30.012Z"
   },
   {
    "duration": 12,
    "start_time": "2022-07-07T18:45:30.052Z"
   },
   {
    "duration": 95,
    "start_time": "2022-07-07T18:45:30.067Z"
   },
   {
    "duration": 313,
    "start_time": "2022-07-07T18:45:30.165Z"
   },
   {
    "duration": 11373,
    "start_time": "2022-07-07T18:45:30.480Z"
   },
   {
    "duration": 15,
    "start_time": "2022-07-07T18:45:41.855Z"
   },
   {
    "duration": 92,
    "start_time": "2022-07-07T18:45:41.872Z"
   },
   {
    "duration": 1047,
    "start_time": "2022-07-08T04:29:30.701Z"
   },
   {
    "duration": 301,
    "start_time": "2022-07-08T04:29:31.750Z"
   },
   {
    "duration": 5,
    "start_time": "2022-07-08T04:29:32.052Z"
   },
   {
    "duration": 25,
    "start_time": "2022-07-08T04:29:32.058Z"
   },
   {
    "duration": 9,
    "start_time": "2022-07-08T04:29:32.085Z"
   },
   {
    "duration": 63,
    "start_time": "2022-07-08T04:29:32.096Z"
   },
   {
    "duration": 313,
    "start_time": "2022-07-08T04:29:32.161Z"
   },
   {
    "duration": 18299,
    "start_time": "2022-07-08T04:29:32.475Z"
   },
   {
    "duration": 9,
    "start_time": "2022-07-08T04:29:50.776Z"
   },
   {
    "duration": 5,
    "start_time": "2022-07-08T04:29:50.786Z"
   },
   {
    "duration": 15,
    "start_time": "2022-07-08T04:29:50.792Z"
   },
   {
    "duration": 145,
    "start_time": "2022-07-08T04:29:50.809Z"
   },
   {
    "duration": 276,
    "start_time": "2022-07-08T04:29:50.955Z"
   },
   {
    "duration": 25325,
    "start_time": "2022-07-08T04:29:51.233Z"
   },
   {
    "duration": 3,
    "start_time": "2022-07-08T04:30:16.560Z"
   },
   {
    "duration": 14,
    "start_time": "2022-07-08T04:30:16.565Z"
   },
   {
    "duration": 74,
    "start_time": "2022-07-08T04:30:16.580Z"
   },
   {
    "duration": 197,
    "start_time": "2022-07-08T04:30:16.656Z"
   },
   {
    "duration": 10843,
    "start_time": "2022-07-08T04:30:16.855Z"
   },
   {
    "duration": 15,
    "start_time": "2022-07-08T04:30:27.700Z"
   },
   {
    "duration": 98,
    "start_time": "2022-07-08T04:30:27.716Z"
   },
   {
    "duration": 46,
    "start_time": "2022-08-11T18:07:45.925Z"
   },
   {
    "duration": 1332,
    "start_time": "2022-08-11T18:07:54.297Z"
   },
   {
    "duration": 107,
    "start_time": "2022-08-11T18:07:57.578Z"
   },
   {
    "duration": 5,
    "start_time": "2022-08-11T18:07:57.687Z"
   },
   {
    "duration": 78,
    "start_time": "2022-08-11T18:08:02.066Z"
   },
   {
    "duration": 1073,
    "start_time": "2022-09-21T15:15:49.107Z"
   },
   {
    "duration": 102,
    "start_time": "2022-09-21T15:15:50.182Z"
   },
   {
    "duration": 4,
    "start_time": "2022-09-21T15:15:50.286Z"
   },
   {
    "duration": 111,
    "start_time": "2022-09-21T15:15:50.291Z"
   },
   {
    "duration": 0,
    "start_time": "2022-09-21T15:15:50.404Z"
   },
   {
    "duration": 0,
    "start_time": "2022-09-21T15:15:50.406Z"
   },
   {
    "duration": 0,
    "start_time": "2022-09-21T15:15:50.407Z"
   },
   {
    "duration": 0,
    "start_time": "2022-09-21T15:15:50.408Z"
   },
   {
    "duration": 0,
    "start_time": "2022-09-21T15:15:50.409Z"
   },
   {
    "duration": 0,
    "start_time": "2022-09-21T15:15:50.410Z"
   },
   {
    "duration": 0,
    "start_time": "2022-09-21T15:15:50.411Z"
   },
   {
    "duration": 0,
    "start_time": "2022-09-21T15:15:50.422Z"
   },
   {
    "duration": 0,
    "start_time": "2022-09-21T15:15:50.423Z"
   },
   {
    "duration": 0,
    "start_time": "2022-09-21T15:15:50.424Z"
   },
   {
    "duration": 0,
    "start_time": "2022-09-21T15:15:50.425Z"
   },
   {
    "duration": 0,
    "start_time": "2022-09-21T15:15:50.427Z"
   },
   {
    "duration": 0,
    "start_time": "2022-09-21T15:15:50.428Z"
   },
   {
    "duration": 0,
    "start_time": "2022-09-21T15:15:50.429Z"
   },
   {
    "duration": 0,
    "start_time": "2022-09-21T15:15:50.430Z"
   },
   {
    "duration": 0,
    "start_time": "2022-09-21T15:15:50.431Z"
   },
   {
    "duration": 0,
    "start_time": "2022-09-21T15:15:50.432Z"
   },
   {
    "duration": 9,
    "start_time": "2022-09-21T15:15:59.468Z"
   },
   {
    "duration": 9,
    "start_time": "2022-09-21T15:16:26.375Z"
   },
   {
    "duration": 1089,
    "start_time": "2022-09-21T15:16:36.394Z"
   },
   {
    "duration": 68,
    "start_time": "2022-09-21T15:16:37.485Z"
   },
   {
    "duration": 4,
    "start_time": "2022-09-21T15:16:37.557Z"
   },
   {
    "duration": 118,
    "start_time": "2022-09-21T15:16:37.563Z"
   },
   {
    "duration": 0,
    "start_time": "2022-09-21T15:16:37.682Z"
   },
   {
    "duration": 0,
    "start_time": "2022-09-21T15:16:37.684Z"
   },
   {
    "duration": 0,
    "start_time": "2022-09-21T15:16:37.684Z"
   },
   {
    "duration": 0,
    "start_time": "2022-09-21T15:16:37.685Z"
   },
   {
    "duration": 0,
    "start_time": "2022-09-21T15:16:37.686Z"
   },
   {
    "duration": 0,
    "start_time": "2022-09-21T15:16:37.687Z"
   },
   {
    "duration": 0,
    "start_time": "2022-09-21T15:16:37.688Z"
   },
   {
    "duration": 0,
    "start_time": "2022-09-21T15:16:37.688Z"
   },
   {
    "duration": 0,
    "start_time": "2022-09-21T15:16:37.689Z"
   },
   {
    "duration": 0,
    "start_time": "2022-09-21T15:16:37.690Z"
   },
   {
    "duration": 0,
    "start_time": "2022-09-21T15:16:37.691Z"
   },
   {
    "duration": 0,
    "start_time": "2022-09-21T15:16:37.692Z"
   },
   {
    "duration": 0,
    "start_time": "2022-09-21T15:16:37.693Z"
   },
   {
    "duration": 0,
    "start_time": "2022-09-21T15:16:37.693Z"
   },
   {
    "duration": 0,
    "start_time": "2022-09-21T15:16:37.694Z"
   },
   {
    "duration": 0,
    "start_time": "2022-09-21T15:16:37.721Z"
   },
   {
    "duration": 0,
    "start_time": "2022-09-21T15:16:37.722Z"
   },
   {
    "duration": 1093,
    "start_time": "2022-09-21T15:17:17.501Z"
   },
   {
    "duration": 62,
    "start_time": "2022-09-21T15:17:18.596Z"
   },
   {
    "duration": 4,
    "start_time": "2022-09-21T15:17:18.660Z"
   },
   {
    "duration": 19,
    "start_time": "2022-09-21T15:17:18.665Z"
   },
   {
    "duration": 9,
    "start_time": "2022-09-21T15:17:18.685Z"
   },
   {
    "duration": 126,
    "start_time": "2022-09-21T15:17:18.696Z"
   },
   {
    "duration": 272,
    "start_time": "2022-09-21T15:17:18.824Z"
   },
   {
    "duration": 18704,
    "start_time": "2022-09-21T15:17:19.098Z"
   },
   {
    "duration": 10,
    "start_time": "2022-09-21T15:17:37.803Z"
   },
   {
    "duration": 8,
    "start_time": "2022-09-21T15:17:37.815Z"
   },
   {
    "duration": 18,
    "start_time": "2022-09-21T15:17:37.824Z"
   },
   {
    "duration": 84,
    "start_time": "2022-09-21T15:17:37.844Z"
   },
   {
    "duration": 538,
    "start_time": "2022-09-21T15:17:37.931Z"
   },
   {
    "duration": 25781,
    "start_time": "2022-09-21T15:17:38.471Z"
   },
   {
    "duration": 3,
    "start_time": "2022-09-21T15:18:04.254Z"
   },
   {
    "duration": 17,
    "start_time": "2022-09-21T15:18:04.259Z"
   },
   {
    "duration": 146,
    "start_time": "2022-09-21T15:18:04.277Z"
   },
   {
    "duration": 180,
    "start_time": "2022-09-21T15:18:04.427Z"
   },
   {
    "duration": 10522,
    "start_time": "2022-09-21T15:18:04.621Z"
   },
   {
    "duration": 14,
    "start_time": "2022-09-21T15:18:15.144Z"
   },
   {
    "duration": 92,
    "start_time": "2022-09-21T15:18:15.160Z"
   },
   {
    "duration": 255,
    "start_time": "2022-09-21T15:18:33.064Z"
   }
  ],
  "kernelspec": {
   "display_name": "Python 3 (ipykernel)",
   "language": "python",
   "name": "python3"
  },
  "language_info": {
   "codemirror_mode": {
    "name": "ipython",
    "version": 3
   },
   "file_extension": ".py",
   "mimetype": "text/x-python",
   "name": "python",
   "nbconvert_exporter": "python",
   "pygments_lexer": "ipython3",
   "version": "3.9.5"
  },
  "toc": {
   "base_numbering": 1,
   "nav_menu": {},
   "number_sections": true,
   "sideBar": true,
   "skip_h1_title": true,
   "title_cell": "Содержание",
   "title_sidebar": "Contents",
   "toc_cell": true,
   "toc_position": {
    "height": "calc(100% - 180px)",
    "left": "10px",
    "top": "150px",
    "width": "301.188px"
   },
   "toc_section_display": true,
   "toc_window_display": true
  }
 },
 "nbformat": 4,
 "nbformat_minor": 2
}
